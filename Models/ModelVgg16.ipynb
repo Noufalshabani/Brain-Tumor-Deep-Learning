{
  "nbformat": 4,
  "nbformat_minor": 0,
  "metadata": {
    "colab": {
      "name": "VGG16_n.ipynb",
      "provenance": []
    },
    "kernelspec": {
      "name": "python3",
      "display_name": "Python 3"
    },
    "language_info": {
      "name": "python"
    }
  },
  "cells": [
    {
      "cell_type": "code",
      "execution_count": 1,
      "metadata": {
        "id": "9S9E5gE9qcpS"
      },
      "outputs": [],
      "source": [
        "import os\n",
        "import random\n",
        "import numpy as np\n",
        "from tqdm.notebook import tqdm\n",
        "import matplotlib.pyplot as plt\n",
        "%matplotlib inline\n",
        "\n",
        "from torchvision import datasets, transforms, models \n",
        "from torchvision.datasets import ImageFolder\n",
        "from torchvision.transforms import ToTensor\n",
        "from torchvision.utils import make_grid\n",
        "from torch.utils.data import random_split\n",
        "from torch.utils.data.dataloader import DataLoader\n",
        "import tensorflow as tf\n",
        "from keras.layers import Conv2D, Dense, MaxPooling2D, Activation, Dropout, Flatten,InputLayer\n",
        "from tensorflow import keras\n",
        "from tensorflow.keras.models import Sequential\n",
        "from tensorflow.keras.layers import Dense, Flatten, Conv2D, MaxPooling2D, Dropout\n",
        "from tensorflow.keras.layers import BatchNormalization\n",
        "from tensorflow.keras.preprocessing.image import ImageDataGenerator\n",
        "from tensorflow.keras.optimizers import Adam, SGD\n",
        "from tensorflow.keras.callbacks import EarlyStopping, ReduceLROnPlateau, ModelCheckpoint\n",
        "from keras import models\n",
        "from keras import layers\n",
        "from tensorflow.keras.preprocessing.image import ImageDataGenerator\n",
        "from tensorflow.keras.applications.vgg16 import VGG16\n",
        "from tensorflow.keras.models import Model\n",
        "from tensorflow.keras.layers import Input, Dense, Activation, Flatten, Conv2D, MaxPool2D, Dropout\n",
        "import os\n",
        "from tensorflow.keras.applications.mobilenet_v2 import preprocess_input\n",
        "import cv2\n",
        "import matplotlib.pyplot as plt\n",
        "import seaborn as sns\n",
        "from keras.applications.vgg19 import VGG19"
      ]
    },
    {
      "cell_type": "code",
      "source": [
        "from google.colab import drive\n",
        "drive.mount('/content/drive')"
      ],
      "metadata": {
        "colab": {
          "base_uri": "https://localhost:8080/"
        },
        "id": "-jQcHRZ_qiC-",
        "outputId": "e021e174-149d-4ce1-a11e-77ec22fccc52"
      },
      "execution_count": 2,
      "outputs": [
        {
          "output_type": "stream",
          "name": "stdout",
          "text": [
            "Mounted at /content/drive\n"
          ]
        }
      ]
    },
    {
      "cell_type": "code",
      "source": [
        "train_loc = '/content/drive/MyDrive/data1/TrainingData'\n",
        "vel_loc = '/content/drive/MyDrive/data1/val'\n",
        "test_loc = \"/content/drive/MyDrive/data1/Testing\"\n"
      ],
      "metadata": {
        "id": "Z8U-hnoDqiFi"
      },
      "execution_count": 3,
      "outputs": []
    },
    {
      "cell_type": "code",
      "source": [
        "import random\n",
        "SEED = 42 \n",
        "np.random.seed(SEED) \n",
        "random.seed(SEED) \n",
        "tf.random.set_seed(SEED)"
      ],
      "metadata": {
        "id": "C5kInubHqiIF"
      },
      "execution_count": 4,
      "outputs": []
    },
    {
      "cell_type": "code",
      "source": [
        "\n",
        "IMAGE_SIZE = [224, 224]\n",
        "vgg = VGG16(input_shape=IMAGE_SIZE + [3], weights='imagenet', include_top=False)"
      ],
      "metadata": {
        "id": "8Gltwei6qiLA",
        "colab": {
          "base_uri": "https://localhost:8080/"
        },
        "outputId": "0202d92d-2631-427c-d95c-9730c8d575f9"
      },
      "execution_count": 5,
      "outputs": [
        {
          "output_type": "stream",
          "name": "stdout",
          "text": [
            "Downloading data from https://storage.googleapis.com/tensorflow/keras-applications/vgg16/vgg16_weights_tf_dim_ordering_tf_kernels_notop.h5\n",
            "58892288/58889256 [==============================] - 0s 0us/step\n",
            "58900480/58889256 [==============================] - 0s 0us/step\n"
          ]
        }
      ]
    },
    {
      "cell_type": "code",
      "source": [
        "for layer in vgg.layers:\n",
        "  layer.trainable = False"
      ],
      "metadata": {
        "id": "liQvAcS7qiN2"
      },
      "execution_count": 6,
      "outputs": []
    },
    {
      "cell_type": "code",
      "source": [
        "from glob import glob\n",
        "\n",
        "folders = glob('/content/drive/MyDrive/data1/TrainingData/*')\n",
        "print(len(folders))"
      ],
      "metadata": {
        "colab": {
          "base_uri": "https://localhost:8080/"
        },
        "id": "NZnec2iJqvDS",
        "outputId": "6ac9717d-2349-4363-f83b-2f286376c528"
      },
      "execution_count": 7,
      "outputs": [
        {
          "output_type": "stream",
          "name": "stdout",
          "text": [
            "4\n"
          ]
        }
      ]
    },
    {
      "cell_type": "code",
      "source": [
        "x = Flatten()(vgg.output)\n",
        "prediction = Dense(len(folders), activation='softmax')(x)\n",
        "model2 = Model(inputs=vgg.input, outputs=prediction)\n",
        "model2.summary()"
      ],
      "metadata": {
        "colab": {
          "base_uri": "https://localhost:8080/"
        },
        "id": "89WtuPvnqvF0",
        "outputId": "ac013226-fe13-42da-c70b-83c0a05964ad"
      },
      "execution_count": 8,
      "outputs": [
        {
          "output_type": "stream",
          "name": "stdout",
          "text": [
            "Model: \"model\"\n",
            "_________________________________________________________________\n",
            " Layer (type)                Output Shape              Param #   \n",
            "=================================================================\n",
            " input_1 (InputLayer)        [(None, 224, 224, 3)]     0         \n",
            "                                                                 \n",
            " block1_conv1 (Conv2D)       (None, 224, 224, 64)      1792      \n",
            "                                                                 \n",
            " block1_conv2 (Conv2D)       (None, 224, 224, 64)      36928     \n",
            "                                                                 \n",
            " block1_pool (MaxPooling2D)  (None, 112, 112, 64)      0         \n",
            "                                                                 \n",
            " block2_conv1 (Conv2D)       (None, 112, 112, 128)     73856     \n",
            "                                                                 \n",
            " block2_conv2 (Conv2D)       (None, 112, 112, 128)     147584    \n",
            "                                                                 \n",
            " block2_pool (MaxPooling2D)  (None, 56, 56, 128)       0         \n",
            "                                                                 \n",
            " block3_conv1 (Conv2D)       (None, 56, 56, 256)       295168    \n",
            "                                                                 \n",
            " block3_conv2 (Conv2D)       (None, 56, 56, 256)       590080    \n",
            "                                                                 \n",
            " block3_conv3 (Conv2D)       (None, 56, 56, 256)       590080    \n",
            "                                                                 \n",
            " block3_pool (MaxPooling2D)  (None, 28, 28, 256)       0         \n",
            "                                                                 \n",
            " block4_conv1 (Conv2D)       (None, 28, 28, 512)       1180160   \n",
            "                                                                 \n",
            " block4_conv2 (Conv2D)       (None, 28, 28, 512)       2359808   \n",
            "                                                                 \n",
            " block4_conv3 (Conv2D)       (None, 28, 28, 512)       2359808   \n",
            "                                                                 \n",
            " block4_pool (MaxPooling2D)  (None, 14, 14, 512)       0         \n",
            "                                                                 \n",
            " block5_conv1 (Conv2D)       (None, 14, 14, 512)       2359808   \n",
            "                                                                 \n",
            " block5_conv2 (Conv2D)       (None, 14, 14, 512)       2359808   \n",
            "                                                                 \n",
            " block5_conv3 (Conv2D)       (None, 14, 14, 512)       2359808   \n",
            "                                                                 \n",
            " block5_pool (MaxPooling2D)  (None, 7, 7, 512)         0         \n",
            "                                                                 \n",
            " flatten (Flatten)           (None, 25088)             0         \n",
            "                                                                 \n",
            " dense (Dense)               (None, 4)                 100356    \n",
            "                                                                 \n",
            "=================================================================\n",
            "Total params: 14,815,044\n",
            "Trainable params: 100,356\n",
            "Non-trainable params: 14,714,688\n",
            "_________________________________________________________________\n"
          ]
        }
      ]
    },
    {
      "cell_type": "code",
      "source": [
        "adam = tf.keras.optimizers.Adam()\n",
        "model2.compile(loss='binary_crossentropy',\n",
        "              optimizer=adam,\n",
        "              metrics=['accuracy'])"
      ],
      "metadata": {
        "id": "yZ7YjQ0IqvIQ"
      },
      "execution_count": 9,
      "outputs": []
    },
    {
      "cell_type": "code",
      "source": [
        "train_datagen = ImageDataGenerator(\n",
        "    rotation_range=40,\n",
        "    width_shift_range=0.2,\n",
        "    height_shift_range=0.2,\n",
        "    shear_range=0.2,\n",
        "    zoom_range=0.2,\n",
        "    horizontal_flip=True,\n",
        "    fill_mode='nearest')\n",
        "\n",
        "train_set = train_datagen.flow_from_directory(train_loc,\n",
        "                                                 target_size = (224, 224),\n",
        "                                                 batch_size = 32,\n",
        "                                                 class_mode = 'categorical')\n",
        "vel_datagen = ImageDataGenerator(\n",
        "    \n",
        "    rotation_range=40,\n",
        "    width_shift_range=0.2,\n",
        "    height_shift_range=0.2,\n",
        "    shear_range=0.2,\n",
        "    zoom_range=0.2,\n",
        "    horizontal_flip=True,\n",
        "    fill_mode='nearest')\n",
        "\n",
        "vel_set = vel_datagen.flow_from_directory(vel_loc,\n",
        "                                            target_size = (224, 224),\n",
        "                                            batch_size = 32,\n",
        "                                            class_mode = 'categorical')\n",
        "\n",
        "test_datagen = ImageDataGenerator(\n",
        "    \n",
        "    rotation_range=40,\n",
        "    width_shift_range=0.2,\n",
        "    height_shift_range=0.2,\n",
        "    shear_range=0.2,\n",
        "    zoom_range=0.2,\n",
        "    horizontal_flip=True,\n",
        "    fill_mode='nearest')\n",
        "\n",
        "test_set = test_datagen.flow_from_directory(test_loc,\n",
        "                                            target_size = (224, 224),\n",
        "                                            batch_size = 32,\n",
        "                                            class_mode = 'categorical')\n",
        "\n"
      ],
      "metadata": {
        "colab": {
          "base_uri": "https://localhost:8080/"
        },
        "id": "07vIWjg3qvK5",
        "outputId": "080ba52d-ad99-493c-d2f3-ffb7c3831b69"
      },
      "execution_count": 10,
      "outputs": [
        {
          "output_type": "stream",
          "name": "stdout",
          "text": [
            "Found 4997 images belonging to 4 classes.\n",
            "Found 1705 images belonging to 4 classes.\n",
            "Found 706 images belonging to 4 classes.\n"
          ]
        }
      ]
    },
    {
      "cell_type": "code",
      "source": [
        "model_history=model2.fit_generator(\n",
        "  train_set,\n",
        "  validation_data=vel_set,\n",
        "  epochs=20,\n",
        "  steps_per_epoch=5,\n",
        "  validation_steps=32,\n",
        "  verbose=2)"
      ],
      "metadata": {
        "colab": {
          "base_uri": "https://localhost:8080/"
        },
        "id": "KV2eOv5XqvNZ",
        "outputId": "9e8d4173-2bfc-423c-baa2-dd6209899f1b"
      },
      "execution_count": 11,
      "outputs": [
        {
          "metadata": {
            "tags": null
          },
          "name": "stderr",
          "output_type": "stream",
          "text": [
            "/usr/local/lib/python3.7/dist-packages/ipykernel_launcher.py:7: UserWarning: `Model.fit_generator` is deprecated and will be removed in a future version. Please use `Model.fit`, which supports generators.\n",
            "  import sys\n"
          ]
        },
        {
          "output_type": "stream",
          "name": "stdout",
          "text": [
            "Epoch 1/20\n",
            "5/5 - 623s - loss: 4.3560 - accuracy: 0.4313 - val_loss: 4.5485 - val_accuracy: 0.5186 - 623s/epoch - 125s/step\n",
            "Epoch 2/20\n",
            "5/5 - 609s - loss: 2.5249 - accuracy: 0.6250 - val_loss: 2.9174 - val_accuracy: 0.5684 - 609s/epoch - 122s/step\n",
            "Epoch 3/20\n",
            "5/5 - 604s - loss: 2.7262 - accuracy: 0.6625 - val_loss: 3.2635 - val_accuracy: 0.6436 - 604s/epoch - 121s/step\n",
            "Epoch 4/20\n",
            "5/5 - 592s - loss: 1.6362 - accuracy: 0.7444 - val_loss: 3.2062 - val_accuracy: 0.6826 - 592s/epoch - 118s/step\n",
            "Epoch 5/20\n",
            "5/5 - 602s - loss: 1.6312 - accuracy: 0.7500 - val_loss: 2.7622 - val_accuracy: 0.6592 - 602s/epoch - 120s/step\n",
            "Epoch 6/20\n",
            "5/5 - 601s - loss: 1.5775 - accuracy: 0.7812 - val_loss: 2.3590 - val_accuracy: 0.6826 - 601s/epoch - 120s/step\n",
            "Epoch 7/20\n",
            "5/5 - 602s - loss: 1.1858 - accuracy: 0.8188 - val_loss: 2.7704 - val_accuracy: 0.7373 - 602s/epoch - 120s/step\n",
            "Epoch 8/20\n",
            "5/5 - 603s - loss: 1.1725 - accuracy: 0.8375 - val_loss: 2.6480 - val_accuracy: 0.7080 - 603s/epoch - 121s/step\n",
            "Epoch 9/20\n",
            "5/5 - 601s - loss: 1.5125 - accuracy: 0.7437 - val_loss: 2.1974 - val_accuracy: 0.7383 - 601s/epoch - 120s/step\n",
            "Epoch 10/20\n",
            "5/5 - 599s - loss: 1.0861 - accuracy: 0.7937 - val_loss: 2.4975 - val_accuracy: 0.7119 - 599s/epoch - 120s/step\n",
            "Epoch 11/20\n",
            "5/5 - 598s - loss: 1.3409 - accuracy: 0.8188 - val_loss: 2.1249 - val_accuracy: 0.7305 - 598s/epoch - 120s/step\n",
            "Epoch 12/20\n",
            "5/5 - 597s - loss: 1.3250 - accuracy: 0.8000 - val_loss: 2.2041 - val_accuracy: 0.7412 - 597s/epoch - 119s/step\n",
            "Epoch 13/20\n",
            "5/5 - 597s - loss: 1.1687 - accuracy: 0.8313 - val_loss: 2.3342 - val_accuracy: 0.7080 - 597s/epoch - 119s/step\n",
            "Epoch 14/20\n",
            "5/5 - 599s - loss: 1.0982 - accuracy: 0.8250 - val_loss: 2.1738 - val_accuracy: 0.7383 - 599s/epoch - 120s/step\n",
            "Epoch 15/20\n",
            "5/5 - 597s - loss: 1.0793 - accuracy: 0.8000 - val_loss: 2.0849 - val_accuracy: 0.7422 - 597s/epoch - 119s/step\n",
            "Epoch 16/20\n",
            "5/5 - 599s - loss: 1.0788 - accuracy: 0.8687 - val_loss: 2.5583 - val_accuracy: 0.7285 - 599s/epoch - 120s/step\n",
            "Epoch 17/20\n",
            "5/5 - 598s - loss: 1.1639 - accuracy: 0.8125 - val_loss: 2.2124 - val_accuracy: 0.7334 - 598s/epoch - 120s/step\n",
            "Epoch 18/20\n",
            "5/5 - 597s - loss: 1.2698 - accuracy: 0.8062 - val_loss: 2.1117 - val_accuracy: 0.7451 - 597s/epoch - 119s/step\n",
            "Epoch 19/20\n",
            "5/5 - 598s - loss: 0.7336 - accuracy: 0.8687 - val_loss: 2.4834 - val_accuracy: 0.7510 - 598s/epoch - 120s/step\n",
            "Epoch 20/20\n",
            "5/5 - 597s - loss: 1.1964 - accuracy: 0.8250 - val_loss: 2.1689 - val_accuracy: 0.7041 - 597s/epoch - 119s/step\n"
          ]
        }
      ]
    },
    {
      "cell_type": "code",
      "source": [
        "plt.plot(model_history.history['loss'], label = 'train')\n",
        "plt.plot(model_history.history['val_loss'], label = 'val')\n",
        "plt.title('  Loss  &  Validation Loss VGG16 ')\n",
        "plt.legend()\n",
        "plt.show()"
      ],
      "metadata": {
        "id": "4hsZqL6osNz9",
        "colab": {
          "base_uri": "https://localhost:8080/",
          "height": 281
        },
        "outputId": "f538d8b2-b039-4b13-bf20-6c34f844e7cc"
      },
      "execution_count": 12,
      "outputs": [
        {
          "output_type": "display_data",
          "data": {
            "image/png": "[encoded data removed]",
            "text/plain": [
              "<Figure size 432x288 with 1 Axes>"
            ]
          },
          "metadata": {
            "needs_background": "light"
          }
        }
      ]
    },
    {
      "cell_type": "code",
      "source": [
        "plt.plot(model_history.history['accuracy'], label = 'train')\n",
        "plt.plot(model_history.history['val_accuracy'], label = 'val')\n",
        "plt.title( 'Accuracy  &  Validation Accuracy VGG16')\n",
        "plt.legend()\n",
        "plt.show()"
      ],
      "metadata": {
        "id": "9YOG-XWhsQFm",
        "colab": {
          "base_uri": "https://localhost:8080/",
          "height": 281
        },
        "outputId": "495332e8-8b57-4fc5-f763-3f788eff49b4"
      },
      "execution_count": 13,
      "outputs": [
        {
          "output_type": "display_data",
          "data": {
            "image/png": "[encoded data removed]",
            "text/plain": [
              "<Figure size 432x288 with 1 Axes>"
            ]
          },
          "metadata": {
            "needs_background": "light"
          }
        }
      ]
    }
  ]
}