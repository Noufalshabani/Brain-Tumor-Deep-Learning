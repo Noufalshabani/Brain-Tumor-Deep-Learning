{
  "nbformat": 4,
  "nbformat_minor": 0,
  "metadata": {
    "colab": {
      "name": "19.ipynb",
      "provenance": []
    },
    "kernelspec": {
      "name": "python3",
      "display_name": "Python 3"
    },
    "language_info": {
      "name": "python"
    },
    "accelerator": "TPU"
  },
  "cells": [
    {
      "cell_type": "code",
      "execution_count": 12,
      "metadata": {
        "id": "Pot7_XbRBUp3"
      },
      "outputs": [],
      "source": [
        "import os\n",
        "import random\n",
        "import numpy as np\n",
        "from tqdm.notebook import tqdm\n",
        "import matplotlib.pyplot as plt\n",
        "%matplotlib inline\n",
        "\n",
        "from torchvision import datasets, transforms, models \n",
        "from torchvision.datasets import ImageFolder\n",
        "from torchvision.transforms import ToTensor\n",
        "from torchvision.utils import make_grid\n",
        "from torch.utils.data import random_split\n",
        "from torch.utils.data.dataloader import DataLoader\n",
        "import tensorflow as tf\n",
        "from keras.layers import Conv2D, Dense, MaxPooling2D, Activation, Dropout, Flatten,InputLayer\n",
        "from tensorflow import keras\n",
        "from tensorflow.keras.models import Sequential\n",
        "from tensorflow.keras.layers import Dense, Flatten, Conv2D, MaxPooling2D, Dropout\n",
        "from tensorflow.keras.layers import BatchNormalization\n",
        "from tensorflow.keras.preprocessing.image import ImageDataGenerator\n",
        "from tensorflow.keras.optimizers import Adam, SGD\n",
        "from tensorflow.keras.callbacks import EarlyStopping, ReduceLROnPlateau, ModelCheckpoint\n",
        "from keras import models\n",
        "from keras import layers\n",
        "from tensorflow.keras.preprocessing.image import ImageDataGenerator\n",
        "from tensorflow.keras.applications.vgg16 import VGG16\n",
        "from tensorflow.keras.models import Model\n",
        "from tensorflow.keras.layers import Input, Dense, Activation, Flatten, Conv2D, MaxPool2D, Dropout\n",
        "import os\n",
        "from tensorflow.keras.applications.mobilenet_v2 import preprocess_input\n",
        "import cv2\n",
        "import matplotlib.pyplot as plt\n",
        "import seaborn as sns\n",
        "from keras.applications.vgg19 import VGG19"
      ]
    },
    {
      "cell_type": "code",
      "source": [
        "from google.colab import drive\n",
        "drive.mount('/content/drive')"
      ],
      "metadata": {
        "colab": {
          "base_uri": "https://localhost:8080/"
        },
        "id": "qfLse9_-B-Aq",
        "outputId": "ea20c242-5663-4599-8f5a-976a706be08a"
      },
      "execution_count": 13,
      "outputs": [
        {
          "output_type": "stream",
          "name": "stdout",
          "text": [
            "Drive already mounted at /content/drive; to attempt to forcibly remount, call drive.mount(\"/content/drive\", force_remount=True).\n"
          ]
        }
      ]
    },
    {
      "cell_type": "code",
      "source": [
        "train_loc = '/content/drive/MyDrive/data11/TrainingData'\n",
        "vel_loc = '/content/drive/MyDrive/data11/val'\n",
        "test_loc = \"/content/drive/MyDrive/data11/Testing\"\n"
      ],
      "metadata": {
        "id": "PwwBMwP5CI7J"
      },
      "execution_count": 14,
      "outputs": []
    },
    {
      "cell_type": "code",
      "source": [
        "import random\n",
        "SEED = 42 \n",
        "np.random.seed(SEED) \n",
        "random.seed(SEED) \n",
        "tf.random.set_seed(SEED)"
      ],
      "metadata": {
        "id": "T-b5qpInCI-B"
      },
      "execution_count": 15,
      "outputs": []
    },
    {
      "cell_type": "code",
      "source": [
        "\n",
        "IMAGE_SIZE = [224, 224]\n",
        "vgg = VGG19(input_shape=IMAGE_SIZE + [3], weights='imagenet', include_top=False)"
      ],
      "metadata": {
        "id": "PWiU3oC_DAoS"
      },
      "execution_count": 16,
      "outputs": []
    },
    {
      "cell_type": "code",
      "source": [
        "for layer in vgg.layers:\n",
        "  layer.trainable = False"
      ],
      "metadata": {
        "id": "DmlmdAt3CJAx"
      },
      "execution_count": 17,
      "outputs": []
    },
    {
      "cell_type": "code",
      "source": [
        "from glob import glob\n",
        "\n",
        "folders = glob('/content/drive/MyDrive/data11/TrainingData/*')\n",
        "print(len(folders))"
      ],
      "metadata": {
        "colab": {
          "base_uri": "https://localhost:8080/"
        },
        "id": "7yZgl2k6ENhI",
        "outputId": "a9ef9329-bddd-4e13-afff-80deda3bcd66"
      },
      "execution_count": 18,
      "outputs": [
        {
          "output_type": "stream",
          "name": "stdout",
          "text": [
            "4\n"
          ]
        }
      ]
    },
    {
      "cell_type": "code",
      "source": [
        "x = Flatten()(vgg.output)\n",
        "prediction = Dense(len(folders), activation='softmax')(x)\n",
        "model2 = Model(inputs=vgg.input, outputs=prediction)\n",
        "model2.summary()"
      ],
      "metadata": {
        "colab": {
          "base_uri": "https://localhost:8080/"
        },
        "id": "GD93cdPaENkg",
        "outputId": "7572b7ea-819a-48c6-d48e-24a28910156d"
      },
      "execution_count": 19,
      "outputs": [
        {
          "output_type": "stream",
          "name": "stdout",
          "text": [
            "Model: \"model_1\"\n",
            "_________________________________________________________________\n",
            " Layer (type)                Output Shape              Param #   \n",
            "=================================================================\n",
            " input_2 (InputLayer)        [(None, 224, 224, 3)]     0         \n",
            "                                                                 \n",
            " block1_conv1 (Conv2D)       (None, 224, 224, 64)      1792      \n",
            "                                                                 \n",
            " block1_conv2 (Conv2D)       (None, 224, 224, 64)      36928     \n",
            "                                                                 \n",
            " block1_pool (MaxPooling2D)  (None, 112, 112, 64)      0         \n",
            "                                                                 \n",
            " block2_conv1 (Conv2D)       (None, 112, 112, 128)     73856     \n",
            "                                                                 \n",
            " block2_conv2 (Conv2D)       (None, 112, 112, 128)     147584    \n",
            "                                                                 \n",
            " block2_pool (MaxPooling2D)  (None, 56, 56, 128)       0         \n",
            "                                                                 \n",
            " block3_conv1 (Conv2D)       (None, 56, 56, 256)       295168    \n",
            "                                                                 \n",
            " block3_conv2 (Conv2D)       (None, 56, 56, 256)       590080    \n",
            "                                                                 \n",
            " block3_conv3 (Conv2D)       (None, 56, 56, 256)       590080    \n",
            "                                                                 \n",
            " block3_conv4 (Conv2D)       (None, 56, 56, 256)       590080    \n",
            "                                                                 \n",
            " block3_pool (MaxPooling2D)  (None, 28, 28, 256)       0         \n",
            "                                                                 \n",
            " block4_conv1 (Conv2D)       (None, 28, 28, 512)       1180160   \n",
            "                                                                 \n",
            " block4_conv2 (Conv2D)       (None, 28, 28, 512)       2359808   \n",
            "                                                                 \n",
            " block4_conv3 (Conv2D)       (None, 28, 28, 512)       2359808   \n",
            "                                                                 \n",
            " block4_conv4 (Conv2D)       (None, 28, 28, 512)       2359808   \n",
            "                                                                 \n",
            " block4_pool (MaxPooling2D)  (None, 14, 14, 512)       0         \n",
            "                                                                 \n",
            " block5_conv1 (Conv2D)       (None, 14, 14, 512)       2359808   \n",
            "                                                                 \n",
            " block5_conv2 (Conv2D)       (None, 14, 14, 512)       2359808   \n",
            "                                                                 \n",
            " block5_conv3 (Conv2D)       (None, 14, 14, 512)       2359808   \n",
            "                                                                 \n",
            " block5_conv4 (Conv2D)       (None, 14, 14, 512)       2359808   \n",
            "                                                                 \n",
            " block5_pool (MaxPooling2D)  (None, 7, 7, 512)         0         \n",
            "                                                                 \n",
            " flatten_1 (Flatten)         (None, 25088)             0         \n",
            "                                                                 \n",
            " dense_1 (Dense)             (None, 4)                 100356    \n",
            "                                                                 \n",
            "=================================================================\n",
            "Total params: 20,124,740\n",
            "Trainable params: 100,356\n",
            "Non-trainable params: 20,024,384\n",
            "_________________________________________________________________\n"
          ]
        }
      ]
    },
    {
      "cell_type": "code",
      "source": [
        "adam = tf.keras.optimizers.Adam()\n",
        "model2.compile(loss='binary_crossentropy',\n",
        "              optimizer=adam,\n",
        "              metrics=['accuracy'])"
      ],
      "metadata": {
        "id": "-8mK9Fz0B-DZ"
      },
      "execution_count": 20,
      "outputs": []
    },
    {
      "cell_type": "code",
      "source": [
        "train_datagen = ImageDataGenerator(\n",
        "    rotation_range=40,\n",
        "    width_shift_range=0.2,\n",
        "    height_shift_range=0.2,\n",
        "    shear_range=0.2,\n",
        "    zoom_range=0.2,\n",
        "    horizontal_flip=True,\n",
        "    fill_mode='nearest')\n",
        "\n",
        "train_set = train_datagen.flow_from_directory(train_loc,\n",
        "                                                 target_size = (224, 224),\n",
        "                                                 batch_size = 32,\n",
        "                                                 class_mode = 'categorical')\n",
        "vel_datagen = ImageDataGenerator(\n",
        "    \n",
        "    rotation_range=40,\n",
        "    width_shift_range=0.2,\n",
        "    height_shift_range=0.2,\n",
        "    shear_range=0.2,\n",
        "    zoom_range=0.2,\n",
        "    horizontal_flip=True,\n",
        "    fill_mode='nearest')\n",
        "\n",
        "vel_set = vel_datagen.flow_from_directory(vel_loc,\n",
        "                                            target_size = (224, 224),\n",
        "                                            batch_size = 32,\n",
        "                                            class_mode = 'categorical')\n",
        "\n",
        "test_datagen = ImageDataGenerator(\n",
        "    \n",
        "    rotation_range=40,\n",
        "    width_shift_range=0.2,\n",
        "    height_shift_range=0.2,\n",
        "    shear_range=0.2,\n",
        "    zoom_range=0.2,\n",
        "    horizontal_flip=True,\n",
        "    fill_mode='nearest')\n",
        "\n",
        "test_set = test_datagen.flow_from_directory(test_loc,\n",
        "                                            target_size = (224, 224),\n",
        "                                            batch_size = 32,\n",
        "                                            class_mode = 'categorical')\n",
        "\n"
      ],
      "metadata": {
        "colab": {
          "base_uri": "https://localhost:8080/"
        },
        "id": "pZy0R9CxHWYp",
        "outputId": "c56444d3-c913-4925-8061-aa3e1056bedd"
      },
      "execution_count": 21,
      "outputs": [
        {
          "output_type": "stream",
          "name": "stdout",
          "text": [
            "Found 4997 images belonging to 4 classes.\n",
            "Found 1705 images belonging to 4 classes.\n",
            "Found 706 images belonging to 4 classes.\n"
          ]
        }
      ]
    },
    {
      "cell_type": "code",
      "source": [
        "model_history=model2.fit_generator(\n",
        "  train_set,\n",
        "  validation_data=vel_set,\n",
        "  epochs=20,\n",
        "  steps_per_epoch=5,\n",
        "  validation_steps=32,\n",
        "  verbose=2)"
      ],
      "metadata": {
        "colab": {
          "base_uri": "https://localhost:8080/"
        },
        "id": "XvehqwjVHWcG",
        "outputId": "7c13b4d9-3709-43f4-e98d-86b936c2596e"
      },
      "execution_count": 22,
      "outputs": [
        {
          "output_type": "stream",
          "name": "stderr",
          "text": [
            "/usr/local/lib/python3.7/dist-packages/ipykernel_launcher.py:7: UserWarning: `Model.fit_generator` is deprecated and will be removed in a future version. Please use `Model.fit`, which supports generators.\n",
            "  import sys\n"
          ]
        },
        {
          "output_type": "stream",
          "name": "stdout",
          "text": [
            "Epoch 1/20\n",
            "5/5 - 789s - loss: 4.0770 - accuracy: 0.4187 - val_loss: 4.6596 - val_accuracy: 0.4824 - 789s/epoch - 158s/step\n",
            "Epoch 2/20\n",
            "5/5 - 766s - loss: 2.4528 - accuracy: 0.6000 - val_loss: 3.0780 - val_accuracy: 0.5020 - 766s/epoch - 153s/step\n",
            "Epoch 3/20\n",
            "5/5 - 769s - loss: 2.4893 - accuracy: 0.6187 - val_loss: 3.5614 - val_accuracy: 0.5986 - 769s/epoch - 154s/step\n",
            "Epoch 4/20\n",
            "5/5 - 754s - loss: 1.8622 - accuracy: 0.6992 - val_loss: 2.3704 - val_accuracy: 0.6348 - 754s/epoch - 151s/step\n",
            "Epoch 5/20\n",
            "5/5 - 770s - loss: 1.8459 - accuracy: 0.6875 - val_loss: 2.4900 - val_accuracy: 0.6172 - 770s/epoch - 154s/step\n",
            "Epoch 6/20\n",
            "5/5 - 788s - loss: 1.5751 - accuracy: 0.7437 - val_loss: 2.2852 - val_accuracy: 0.6406 - 788s/epoch - 158s/step\n",
            "Epoch 7/20\n",
            "5/5 - 771s - loss: 1.1819 - accuracy: 0.7688 - val_loss: 2.1387 - val_accuracy: 0.6934 - 771s/epoch - 154s/step\n",
            "Epoch 8/20\n",
            "5/5 - 770s - loss: 1.3741 - accuracy: 0.7500 - val_loss: 2.0997 - val_accuracy: 0.7051 - 770s/epoch - 154s/step\n",
            "Epoch 9/20\n",
            "5/5 - 771s - loss: 1.2193 - accuracy: 0.7563 - val_loss: 2.1168 - val_accuracy: 0.6924 - 771s/epoch - 154s/step\n",
            "Epoch 10/20\n",
            "5/5 - 774s - loss: 1.0485 - accuracy: 0.7437 - val_loss: 1.8761 - val_accuracy: 0.6943 - 774s/epoch - 155s/step\n",
            "Epoch 11/20\n",
            "5/5 - 772s - loss: 1.1143 - accuracy: 0.7875 - val_loss: 1.7433 - val_accuracy: 0.7158 - 772s/epoch - 154s/step\n",
            "Epoch 12/20\n",
            "5/5 - 781s - loss: 1.1000 - accuracy: 0.7812 - val_loss: 1.6704 - val_accuracy: 0.7119 - 781s/epoch - 156s/step\n",
            "Epoch 13/20\n",
            "5/5 - 774s - loss: 0.8077 - accuracy: 0.7875 - val_loss: 1.8345 - val_accuracy: 0.6855 - 774s/epoch - 155s/step\n",
            "Epoch 14/20\n",
            "5/5 - 780s - loss: 0.8770 - accuracy: 0.8000 - val_loss: 1.8137 - val_accuracy: 0.7324 - 780s/epoch - 156s/step\n",
            "Epoch 15/20\n",
            "5/5 - 774s - loss: 0.8710 - accuracy: 0.8250 - val_loss: 1.7328 - val_accuracy: 0.7246 - 774s/epoch - 155s/step\n",
            "Epoch 16/20\n",
            "5/5 - 775s - loss: 0.8913 - accuracy: 0.8062 - val_loss: 1.9933 - val_accuracy: 0.7246 - 775s/epoch - 155s/step\n",
            "Epoch 17/20\n",
            "5/5 - 773s - loss: 0.9565 - accuracy: 0.8438 - val_loss: 1.8699 - val_accuracy: 0.7178 - 773s/epoch - 155s/step\n",
            "Epoch 18/20\n",
            "5/5 - 771s - loss: 1.0660 - accuracy: 0.8375 - val_loss: 2.0936 - val_accuracy: 0.7334 - 771s/epoch - 154s/step\n",
            "Epoch 19/20\n",
            "5/5 - 777s - loss: 0.9590 - accuracy: 0.8313 - val_loss: 1.9334 - val_accuracy: 0.7500 - 777s/epoch - 155s/step\n",
            "Epoch 20/20\n",
            "5/5 - 770s - loss: 1.4094 - accuracy: 0.7625 - val_loss: 1.6274 - val_accuracy: 0.7080 - 770s/epoch - 154s/step\n"
          ]
        }
      ]
    },
    {
      "cell_type": "code",
      "source": [
        "plt.plot(model_history.history['loss'], label = 'train')\n",
        "plt.plot(model_history.history['val_loss'], label = 'val')\n",
        "plt.title('  Loss  &  Validation Loss VGG19 ')\n",
        "plt.legend()\n",
        "plt.show()"
      ],
      "metadata": {
        "id": "EwBR4PslHWfP",
        "colab": {
          "base_uri": "https://localhost:8080/",
          "height": 281
        },
        "outputId": "e13ea04d-0361-488a-cd0e-f08903f2e909"
      },
      "execution_count": 24,
      "outputs": [
        {
          "output_type": "display_data",
          "data": {
            "image/png": "[encoded data removed]",
            "text/plain": [
              "<Figure size 432x288 with 1 Axes>"
            ]
          },
          "metadata": {
            "needs_background": "light"
          }
        }
      ]
    },
    {
      "cell_type": "code",
      "source": [
        "plt.plot(model_history.history['accuracy'], label = 'train')\n",
        "plt.plot(model_history.history['val_accuracy'], label = 'val')\n",
        "plt.title( 'Accuracy  &  Validation Accuracy VGG19')\n",
        "plt.legend()\n",
        "plt.show()"
      ],
      "metadata": {
        "colab": {
          "base_uri": "https://localhost:8080/",
          "height": 281
        },
        "id": "3rmT16Qxc3Bm",
        "outputId": "4ec63a93-b1d6-44d1-e7c3-dd8f3394bd54"
      },
      "execution_count": 25,
      "outputs": [
        {
          "output_type": "display_data",
          "data": {
            "image/png": "[encoded data removed]",
            "text/plain": [
              "<Figure size 432x288 with 1 Axes>"
            ]
          },
          "metadata": {
            "needs_background": "light"
          }
        }
      ]
    }
  ]
}