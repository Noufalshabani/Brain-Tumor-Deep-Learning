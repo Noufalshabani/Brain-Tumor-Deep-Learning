{
  "cells": [
    {
      "cell_type": "code",
      "execution_count": 41,
      "metadata": {
        "id": "_bVFydiC3mXn"
      },
      "outputs": [],
      "source": [
        "import os\n",
        "import random\n",
        "import numpy as np\n",
        "from tqdm.notebook import tqdm\n",
        "import matplotlib.pyplot as plt\n",
        "%matplotlib inline\n",
        "\n",
        "from torchvision import datasets, transforms, models \n",
        "from torchvision.datasets import ImageFolder\n",
        "from torchvision.transforms import ToTensor\n",
        "from torchvision.utils import make_grid\n",
        "from torch.utils.data import random_split\n",
        "from torch.utils.data.dataloader import DataLoader\n",
        "import tensorflow as tf\n",
        "from keras.layers import Conv2D, Dense, MaxPooling2D, Activation, Dropout, Flatten,InputLayer\n",
        "from tensorflow import keras\n",
        "from tensorflow.keras.models import Sequential\n",
        "from tensorflow.keras.layers import Dense, Flatten, Conv2D, MaxPooling2D, Dropout\n",
        "from tensorflow.keras.layers import BatchNormalization\n",
        "from tensorflow.keras.preprocessing.image import ImageDataGenerator\n",
        "from tensorflow.keras.optimizers import Adam, SGD\n",
        "from tensorflow.keras.callbacks import EarlyStopping, ReduceLROnPlateau, ModelCheckpoint\n",
        "from keras import models\n",
        "from keras import layers\n",
        "from tensorflow.keras.preprocessing.image import ImageDataGenerator\n",
        "from tensorflow.keras.applications.vgg16 import VGG16\n",
        "from tensorflow.keras.models import Model\n",
        "from tensorflow.keras.layers import Input, Dense, Activation, Flatten, Conv2D, MaxPool2D, Dropout\n",
        "import os\n",
        "from tensorflow.keras.applications.mobilenet_v2 import preprocess_input\n",
        "import cv2\n",
        "import matplotlib.pyplot as plt\n",
        "import seaborn as sns\n",
        "from keras.applications.vgg19 import VGG19"
      ]
    },
    {
      "cell_type": "code",
      "source": [
        "from google.colab import drive\n",
        "drive.mount('/content/drive')"
      ],
      "metadata": {
        "colab": {
          "base_uri": "https://localhost:8080/"
        },
        "id": "beO4Npn1DoO1",
        "outputId": "8fb5b3a6-cc0c-4d86-8e68-3940326a6c58"
      },
      "execution_count": 66,
      "outputs": [
        {
          "output_type": "stream",
          "name": "stdout",
          "text": [
            "Drive already mounted at /content/drive; to attempt to forcibly remount, call drive.mount(\"/content/drive\", force_remount=True).\n"
          ]
        }
      ]
    },
    {
      "cell_type": "code",
      "execution_count": 67,
      "metadata": {
        "id": "qWTkvElWWhjI"
      },
      "outputs": [],
      "source": [
        "train_loc = '/content/drive/MyDrive/data1/TrainingData'\n",
        "vel_loc = '/content/drive/MyDrive/data1/val'\n",
        "test_loc = \"/content/drive/MyDrive/data1/Testing\"\n"
      ]
    },
    {
      "cell_type": "code",
      "execution_count": 3,
      "metadata": {
        "id": "nDyfsE9aHGcg"
      },
      "outputs": [],
      "source": [
        "model1 = Sequential()\n",
        "\n",
        "# Convolutional layer 1\n",
        "model1.add(Conv2D(32,(3,3), input_shape=(64, 64, 1), activation='relu'))\n",
        "model1.add(BatchNormalization())\n",
        "model1.add(MaxPooling2D(pool_size=(2,2)))\n",
        "\n",
        "# Convolutional layer 2\n",
        "model1.add(Conv2D(32,(3,3), activation='relu'))\n",
        "model1.add(BatchNormalization())\n",
        "model1.add(MaxPooling2D(pool_size=(2,2)))\n",
        "\n",
        "model1.add(Flatten())\n",
        "\n",
        "# Neural network\n",
        "\n",
        "model1.add(Dense(units= 252, activation='relu'))\n",
        "model1.add(Dropout(0.2))\n",
        "model1.add(Dense(units=252, activation='relu'))\n",
        "model1.add(Dropout(0.2))\n",
        "model1.add(Dense(units=4, activation='softmax'))\n",
        "\n",
        "optimizer = tf.keras.optimizers.Adam(learning_rate=0.001, decay=0.0001, clipvalue=0.5)\n",
        "model1.compile(optimizer=optimizer, loss='categorical_crossentropy',\n",
        "                   metrics= ['categorical_accuracy'])"
      ]
    },
    {
      "cell_type": "code",
      "execution_count": 4,
      "metadata": {
        "id": "G5wFdXaNHGfF"
      },
      "outputs": [],
      "source": [
        "generator_train = ImageDataGenerator(rescale=1./255,\n",
        "                                    featurewise_center=False,\n",
        "                                    samplewise_center=False,\n",
        "                                    featurewise_std_normalization=False,\n",
        "                                    samplewise_std_normalization=False,\n",
        "                                    zca_whitening=False,\n",
        "                                    rotation_range=0,\n",
        "                                    zoom_range = 0,\n",
        "                                    width_shift_range=0,\n",
        "                                    height_shift_range=0,\n",
        "                                    horizontal_flip=True,\n",
        "                                    vertical_flip=False) "
      ]
    },
    {
      "cell_type": "code",
      "execution_count": 5,
      "metadata": {
        "id": "XlPgu8E8HGh0"
      },
      "outputs": [],
      "source": [
        "generator_vel = ImageDataGenerator(rescale=1./255,\n",
        "                                    featurewise_center=False,\n",
        "                                    samplewise_center=False,\n",
        "                                    featurewise_std_normalization=False,\n",
        "                                    samplewise_std_normalization=False,\n",
        "                                    zca_whitening=False,\n",
        "                                    rotation_range=0,\n",
        "                                    zoom_range = 0,\n",
        "                                    width_shift_range=0,\n",
        "                                    height_shift_range=0,\n",
        "                                    horizontal_flip=True,\n",
        "                                    vertical_flip=False)"
      ]
    },
    {
      "cell_type": "code",
      "execution_count": 6,
      "metadata": {
        "id": "HgrUqYmqRvhS"
      },
      "outputs": [],
      "source": [
        "generator_test = ImageDataGenerator(rescale=1./255,\n",
        "                                    featurewise_center=False,\n",
        "                                    samplewise_center=False,\n",
        "                                    featurewise_std_normalization=False,\n",
        "                                    samplewise_std_normalization=False,\n",
        "                                    zca_whitening=False,\n",
        "                                    rotation_range=0,\n",
        "                                    zoom_range = 0,\n",
        "                                    width_shift_range=0,\n",
        "                                    height_shift_range=0,\n",
        "                                    horizontal_flip=True,\n",
        "                                    vertical_flip=False)"
      ]
    },
    {
      "cell_type": "code",
      "execution_count": 11,
      "metadata": {
        "id": "X1eTwQc_HGkW",
        "colab": {
          "base_uri": "https://localhost:8080/"
        },
        "outputId": "ff82e10d-19c8-4b12-a2af-010fc802b326"
      },
      "outputs": [
        {
          "output_type": "stream",
          "name": "stdout",
          "text": [
            "Found 4997 images belonging to 4 classes.\n",
            "Found 1705 images belonging to 4 classes.\n",
            "Found 706 images belonging to 4 classes.\n"
          ]
        }
      ],
      "source": [
        "train = generator_train.flow_from_directory(train_loc, target_size=(64,64),\n",
        "                                              batch_size=32, class_mode= \"categorical\", color_mode='grayscale')\n",
        "\n",
        "vel = generator_vel.flow_from_directory(vel_loc, target_size=(64,64),\n",
        "                                              batch_size=32, class_mode= \"categorical\", color_mode='grayscale')\n",
        "\n",
        "test = generator_test.flow_from_directory(test_loc, target_size=(64,64),\n",
        "                                              batch_size=32, class_mode= \"categorical\", color_mode='grayscale')"
      ]
    },
    {
      "cell_type": "code",
      "execution_count": 12,
      "metadata": {
        "colab": {
          "base_uri": "https://localhost:8080/"
        },
        "id": "FiioKcU6HGnJ",
        "outputId": "935ac2a0-4a4c-43b7-a96b-fc012abddb1c"
      },
      "outputs": [
        {
          "output_type": "stream",
          "name": "stdout",
          "text": [
            "Epoch 1/20\n",
            "156/156 [==============================] - 1693s 11s/step - loss: 0.8606 - categorical_accuracy: 0.7222 - val_loss: 3.1859 - val_categorical_accuracy: 0.3520\n",
            "Epoch 2/20\n",
            "156/156 [==============================] - 47s 299ms/step - loss: 0.4718 - categorical_accuracy: 0.8183 - val_loss: 3.9962 - val_categorical_accuracy: 0.2176\n",
            "Epoch 3/20\n",
            "156/156 [==============================] - 47s 301ms/step - loss: 0.3998 - categorical_accuracy: 0.8542 - val_loss: 1.0849 - val_categorical_accuracy: 0.6079\n",
            "Epoch 4/20\n",
            "156/156 [==============================] - 47s 300ms/step - loss: 0.2804 - categorical_accuracy: 0.8933 - val_loss: 0.5200 - val_categorical_accuracy: 0.8125\n",
            "Epoch 5/20\n",
            "156/156 [==============================] - 47s 299ms/step - loss: 0.2082 - categorical_accuracy: 0.9257 - val_loss: 0.4378 - val_categorical_accuracy: 0.8567\n",
            "Epoch 6/20\n",
            "156/156 [==============================] - 47s 300ms/step - loss: 0.1642 - categorical_accuracy: 0.9422 - val_loss: 0.5662 - val_categorical_accuracy: 0.8066\n",
            "Epoch 7/20\n",
            "156/156 [==============================] - 47s 302ms/step - loss: 0.1538 - categorical_accuracy: 0.9472 - val_loss: 0.7108 - val_categorical_accuracy: 0.8496\n",
            "Epoch 8/20\n",
            "156/156 [==============================] - 47s 302ms/step - loss: 0.1188 - categorical_accuracy: 0.9607 - val_loss: 0.6955 - val_categorical_accuracy: 0.8685\n",
            "Epoch 9/20\n",
            "156/156 [==============================] - 47s 301ms/step - loss: 0.1116 - categorical_accuracy: 0.9599 - val_loss: 0.5739 - val_categorical_accuracy: 0.8567\n",
            "Epoch 10/20\n",
            "156/156 [==============================] - 46s 298ms/step - loss: 0.0959 - categorical_accuracy: 0.9706 - val_loss: 0.6486 - val_categorical_accuracy: 0.8638\n",
            "Epoch 11/20\n",
            "156/156 [==============================] - 47s 299ms/step - loss: 0.1032 - categorical_accuracy: 0.9660 - val_loss: 0.5295 - val_categorical_accuracy: 0.9104\n",
            "Epoch 12/20\n",
            "156/156 [==============================] - 47s 298ms/step - loss: 0.0606 - categorical_accuracy: 0.9813 - val_loss: 0.4750 - val_categorical_accuracy: 0.9027\n",
            "Epoch 13/20\n",
            "156/156 [==============================] - 47s 300ms/step - loss: 0.0617 - categorical_accuracy: 0.9799 - val_loss: 0.5790 - val_categorical_accuracy: 0.8933\n",
            "Epoch 14/20\n",
            "156/156 [==============================] - 46s 297ms/step - loss: 0.0596 - categorical_accuracy: 0.9799 - val_loss: 0.4157 - val_categorical_accuracy: 0.9157\n",
            "Epoch 15/20\n",
            "156/156 [==============================] - 47s 298ms/step - loss: 0.0636 - categorical_accuracy: 0.9807 - val_loss: 0.5641 - val_categorical_accuracy: 0.9110\n",
            "Epoch 16/20\n",
            "156/156 [==============================] - 47s 302ms/step - loss: 0.0506 - categorical_accuracy: 0.9831 - val_loss: 0.5562 - val_categorical_accuracy: 0.8903\n",
            "Epoch 17/20\n",
            "156/156 [==============================] - 47s 302ms/step - loss: 0.0390 - categorical_accuracy: 0.9861 - val_loss: 0.6012 - val_categorical_accuracy: 0.9139\n",
            "Epoch 18/20\n",
            "156/156 [==============================] - 47s 303ms/step - loss: 0.0390 - categorical_accuracy: 0.9869 - val_loss: 0.4972 - val_categorical_accuracy: 0.9216\n",
            "Epoch 19/20\n",
            "156/156 [==============================] - 48s 305ms/step - loss: 0.0334 - categorical_accuracy: 0.9903 - val_loss: 1.0739 - val_categorical_accuracy: 0.8974\n",
            "Epoch 20/20\n",
            "156/156 [==============================] - 48s 308ms/step - loss: 0.0378 - categorical_accuracy: 0.9899 - val_loss: 0.7883 - val_categorical_accuracy: 0.9033\n"
          ]
        }
      ],
      "source": [
        "history1 = model1.fit(train, steps_per_epoch=4997 //32, epochs=20, validation_data=vel, validation_steps= 1705 //32)"
      ]
    },
    {
      "cell_type": "code",
      "execution_count": 13,
      "metadata": {
        "colab": {
          "base_uri": "https://localhost:8080/",
          "height": 265
        },
        "id": "JF0BLNAaRCux",
        "outputId": "8d5f8c93-72ea-4f74-ecbe-5787bf8ad469"
      },
      "outputs": [
        {
          "output_type": "display_data",
          "data": {
            "image/png": "[encoded data removed]",
            "text/plain": [
              "<Figure size 432x288 with 1 Axes>"
            ]
          },
          "metadata": {
            "needs_background": "light"
          }
        }
      ],
      "source": [
        "plt.plot(history1.history['loss'], label = 'train')\n",
        "plt.plot(history1.history['val_loss'], label = 'vel')\n",
        "\n",
        "plt.legend()\n",
        "plt.show()"
      ]
    },
    {
      "cell_type": "code",
      "execution_count": 14,
      "metadata": {
        "colab": {
          "base_uri": "https://localhost:8080/",
          "height": 265
        },
        "id": "7mCmvD9CRNDx",
        "outputId": "06a65419-f4e8-4926-f875-b28722d4bf4a"
      },
      "outputs": [
        {
          "output_type": "display_data",
          "data": {
            "image/png": "[encoded data removed]",
            "text/plain": [
              "<Figure size 432x288 with 1 Axes>"
            ]
          },
          "metadata": {
            "needs_background": "light"
          }
        }
      ],
      "source": [
        "plt.plot(history1.history['categorical_accuracy'], label = 'train')\n",
        "plt.plot(history1.history['val_categorical_accuracy'], label = 'vel')\n",
        "\n",
        "plt.legend()\n",
        "plt.show()"
      ]
    },
    {
      "cell_type": "code",
      "execution_count": 15,
      "metadata": {
        "colab": {
          "base_uri": "https://localhost:8080/"
        },
        "id": "av-G2BzhRQyQ",
        "outputId": "78532c4c-2241-4cfc-b1a3-db50aa75a920"
      },
      "outputs": [
        {
          "output_type": "stream",
          "name": "stdout",
          "text": [
            "Model: \"sequential\"\n",
            "_________________________________________________________________\n",
            " Layer (type)                Output Shape              Param #   \n",
            "=================================================================\n",
            " conv2d (Conv2D)             (None, 62, 62, 32)        320       \n",
            "                                                                 \n",
            " batch_normalization (BatchN  (None, 62, 62, 32)       128       \n",
            " ormalization)                                                   \n",
            "                                                                 \n",
            " max_pooling2d (MaxPooling2D  (None, 31, 31, 32)       0         \n",
            " )                                                               \n",
            "                                                                 \n",
            " conv2d_1 (Conv2D)           (None, 29, 29, 32)        9248      \n",
            "                                                                 \n",
            " batch_normalization_1 (Batc  (None, 29, 29, 32)       128       \n",
            " hNormalization)                                                 \n",
            "                                                                 \n",
            " max_pooling2d_1 (MaxPooling  (None, 14, 14, 32)       0         \n",
            " 2D)                                                             \n",
            "                                                                 \n",
            " flatten (Flatten)           (None, 6272)              0         \n",
            "                                                                 \n",
            " dense (Dense)               (None, 252)               1580796   \n",
            "                                                                 \n",
            " dropout (Dropout)           (None, 252)               0         \n",
            "                                                                 \n",
            " dense_1 (Dense)             (None, 252)               63756     \n",
            "                                                                 \n",
            " dropout_1 (Dropout)         (None, 252)               0         \n",
            "                                                                 \n",
            " dense_2 (Dense)             (None, 4)                 1012      \n",
            "                                                                 \n",
            "=================================================================\n",
            "Total params: 1,655,388\n",
            "Trainable params: 1,655,260\n",
            "Non-trainable params: 128\n",
            "_________________________________________________________________\n"
          ]
        }
      ],
      "source": [
        "model1.summary()"
      ]
    },
    {
      "cell_type": "code",
      "execution_count": 16,
      "metadata": {
        "colab": {
          "base_uri": "https://localhost:8080/"
        },
        "id": "d0LHWSrrRSKS",
        "outputId": "d3f06257-1784-401d-f205-42f5a306bfca"
      },
      "outputs": [
        {
          "output_type": "stream",
          "name": "stdout",
          "text": [
            "23/23 [==============================] - 222s 10s/step - loss: 0.4371 - categorical_accuracy: 0.9164\n"
          ]
        },
        {
          "output_type": "execute_result",
          "data": {
            "text/plain": [
              "[0.4370552897453308, 0.9164305925369263]"
            ]
          },
          "metadata": {},
          "execution_count": 16
        }
      ],
      "source": [
        "model1.evaluate(test)"
      ]
    }
  ],
  "metadata": {
    "accelerator": "GPU",
    "colab": {
      "name": "final.ipynb",
      "provenance": []
    },
    "kernelspec": {
      "display_name": "Python 3",
      "name": "python3"
    },
    "language_info": {
      "name": "python"
    }
  },
  "nbformat": 4,
  "nbformat_minor": 0
}