{
  "cells": [
    {
      "cell_type": "code",
      "execution_count": 1,
      "metadata": {
        "id": "M8n6S3Tr8IOg"
      },
      "outputs": [],
      "source": [
        "import os\n",
        "import random\n",
        "import numpy as np\n",
        "from tqdm.notebook import tqdm\n",
        "import matplotlib.pyplot as plt\n",
        "%matplotlib inline\n",
        "\n",
        "from torchvision import datasets, transforms, models \n",
        "from torchvision.datasets import ImageFolder\n",
        "from torchvision.transforms import ToTensor\n",
        "from torchvision.utils import make_grid\n",
        "from torch.utils.data import random_split\n",
        "from torch.utils.data.dataloader import DataLoader\n",
        "import tensorflow as tf\n",
        "from keras.layers import Conv2D, Dense, MaxPooling2D, Activation, Dropout, Flatten,InputLayer\n",
        "from tensorflow import keras\n",
        "from tensorflow.keras.models import Sequential\n",
        "from tensorflow.keras.layers import Dense, Flatten, Conv2D, MaxPooling2D, Dropout\n",
        "from tensorflow.keras.layers import BatchNormalization\n",
        "from tensorflow.keras.preprocessing.image import ImageDataGenerator\n",
        "from tensorflow.keras.optimizers import Adam, SGD\n",
        "from tensorflow.keras.callbacks import EarlyStopping, ReduceLROnPlateau, ModelCheckpoint\n",
        "from keras import models\n",
        "from keras import layers\n",
        "from tensorflow.keras.preprocessing.image import ImageDataGenerator\n",
        "from tensorflow.keras.applications.vgg16 import VGG16\n",
        "from tensorflow.keras.models import Model\n",
        "from tensorflow.keras.layers import Input, Dense, Activation, Flatten, Conv2D, MaxPool2D, Dropout\n",
        "import os\n",
        "from tensorflow.keras.applications.mobilenet_v2 import preprocess_input\n",
        "import cv2\n",
        "import matplotlib.pyplot as plt\n",
        "import seaborn as sns\n",
        "from keras.applications.vgg19 import VGG19"
      ]
    },
    {
      "cell_type": "code",
      "execution_count": 2,
      "metadata": {
        "colab": {
          "base_uri": "https://localhost:8080/"
        },
        "id": "9mq9L12y8Pz-",
        "outputId": "5692ee8d-406d-411f-e570-a525f2ca3034"
      },
      "outputs": [
        {
          "output_type": "stream",
          "name": "stdout",
          "text": [
            "Mounted at /content/drive\n"
          ]
        }
      ],
      "source": [
        "from google.colab import drive\n",
        "drive.mount('/content/drive')"
      ]
    },
    {
      "cell_type": "code",
      "execution_count": 3,
      "metadata": {
        "id": "T4JcppkDBmwV"
      },
      "outputs": [],
      "source": [
        "train_loc = '/content/drive/MyDrive/data1/TrainingData'\n",
        "vel_loc = '/content/drive/MyDrive/data1/val'\n",
        "test_loc = \"/content/drive/MyDrive/data1/Testing\"\n"
      ]
    },
    {
      "cell_type": "code",
      "execution_count": 4,
      "metadata": {
        "id": "GX1910kYBmyh"
      },
      "outputs": [],
      "source": [
        "model4 = Sequential()\n",
        "\n",
        "# Convolutional layer 1\n",
        "model4.add(Conv2D(64,(7,7), input_shape=(200, 200, 1), padding='same', activation='relu'))\n",
        "model4.add(BatchNormalization())\n",
        "model4.add(MaxPooling2D(pool_size=(2,2)))\n",
        "\n",
        "#Convolutional layer 2\n",
        "model4.add(Conv2D(128,(7,7), padding='same', activation='relu'))\n",
        "model4.add(BatchNormalization())\n",
        "model4.add(MaxPooling2D(pool_size=(2,2)))\n",
        "\n",
        "# Convolutional layer 3\n",
        "model4.add(Conv2D(128,(7,7), padding='same', activation='relu'))\n",
        "model4.add(BatchNormalization())\n",
        "model4.add(MaxPooling2D(pool_size=(2,2)))\n",
        "\n",
        "# Convolutional layer 4\n",
        "model4.add(Conv2D(256,(7,7), padding='same', activation='relu'))\n",
        "model4.add(BatchNormalization())\n",
        "model4.add(MaxPooling2D(pool_size=(2,2)))\n",
        "\n",
        " # Convolutional layer 5\n",
        "model4.add(Conv2D(256,(7,7), padding='same', activation='relu'))\n",
        "model4.add(BatchNormalization())\n",
        "model4.add(MaxPooling2D(pool_size=(2,2)))\n",
        "\n",
        "# Convolutional layer 6\n",
        "model4.add(Conv2D(512,(7,7), padding='same', activation='relu'))\n",
        "model4.add(BatchNormalization())\n",
        "model4.add(MaxPooling2D(pool_size=(2,2)))\n",
        "\n",
        "model4.add(Flatten())\n",
        "\n",
        "# Full connect layers\n",
        "\n",
        "model4.add(Dense(units= 1024, activation='relu'))\n",
        "model4.add(Dropout(0.3))\n",
        "model4.add(Dense(units=1024, activation='relu'))\n",
        "model4.add(Dropout(0.3))\n",
        "model4.add(Dense(units=4, activation='softmax'))\n",
        "\n",
        "\n",
        "\n",
        "model4.compile(optimizer=SGD(learning_rate=0.001), loss='categorical_crossentropy',\n",
        "                   metrics= ['categorical_accuracy'])"
      ]
    },
    {
      "cell_type": "code",
      "execution_count": 5,
      "metadata": {
        "colab": {
          "base_uri": "https://localhost:8080/"
        },
        "id": "nPSmQ34ABuBn",
        "outputId": "94d37598-b9c0-4be2-affb-219e04160b37"
      },
      "outputs": [
        {
          "output_type": "stream",
          "name": "stdout",
          "text": [
            "Found 4997 images belonging to 4 classes.\n",
            "Found 1705 images belonging to 4 classes.\n"
          ]
        }
      ],
      "source": [
        "# using the ImageDataGenerator\n",
        "\n",
        "generator_train = ImageDataGenerator(rescale=1./255,\n",
        "                                    featurewise_center=False,\n",
        "                                    samplewise_center=False,\n",
        "                                    featurewise_std_normalization=False,\n",
        "                                    samplewise_std_normalization=False,\n",
        "                                    zca_whitening=False,\n",
        "                                    rotation_range=0,\n",
        "                                    zoom_range = 0,\n",
        "                                    width_shift_range=0,\n",
        "                                    height_shift_range=0,\n",
        "                                    horizontal_flip=True,\n",
        "                                    vertical_flip=False)\n",
        "\n",
        "generator_test = ImageDataGenerator(rescale=1./255,\n",
        "                                    featurewise_center=False,\n",
        "                                    samplewise_center=False,\n",
        "                                    featurewise_std_normalization=False,\n",
        "                                    samplewise_std_normalization=False,\n",
        "                                    zca_whitening=False,\n",
        "                                    rotation_range=0,\n",
        "                                    zoom_range = 0,\n",
        "                                    width_shift_range=0,\n",
        "                                    height_shift_range=0,\n",
        "                                    horizontal_flip=True,\n",
        "                                    vertical_flip=False)\n",
        "\n",
        "\n",
        "\n",
        "train = generator_train.flow_from_directory('/content/drive/MyDrive/data1/TrainingData', target_size=(200, 200),\n",
        "                                              batch_size=32, class_mode= \"categorical\", color_mode='grayscale')\n",
        "\n",
        "test = generator_test.flow_from_directory('/content/drive/MyDrive/data1/val', target_size=(200, 200),\n",
        "                                              batch_size=32, class_mode= \"categorical\", color_mode='grayscale')"
      ]
    },
    {
      "cell_type": "code",
      "execution_count": 6,
      "metadata": {
        "colab": {
          "base_uri": "https://localhost:8080/"
        },
        "id": "ZvGnqavoBuJ4",
        "outputId": "e3ce7fe7-d5af-4c63-e886-7e4a2d1dba2b"
      },
      "outputs": [
        {
          "output_type": "stream",
          "name": "stdout",
          "text": [
            "Epoch 1/20\n",
            "156/156 [==============================] - 824s 5s/step - loss: 0.7125 - categorical_accuracy: 0.7307 - val_loss: 1.4894 - val_categorical_accuracy: 0.3113\n",
            "Epoch 2/20\n",
            "156/156 [==============================] - 34s 219ms/step - loss: 0.4270 - categorical_accuracy: 0.8399 - val_loss: 2.0711 - val_categorical_accuracy: 0.2677\n",
            "Epoch 3/20\n",
            "156/156 [==============================] - 35s 222ms/step - loss: 0.3346 - categorical_accuracy: 0.8755 - val_loss: 1.0286 - val_categorical_accuracy: 0.5743\n",
            "Epoch 4/20\n",
            "156/156 [==============================] - 35s 221ms/step - loss: 0.2716 - categorical_accuracy: 0.8975 - val_loss: 0.4854 - val_categorical_accuracy: 0.8237\n",
            "Epoch 5/20\n",
            "156/156 [==============================] - 35s 222ms/step - loss: 0.2337 - categorical_accuracy: 0.9136 - val_loss: 0.5109 - val_categorical_accuracy: 0.8496\n",
            "Epoch 6/20\n",
            "156/156 [==============================] - 35s 222ms/step - loss: 0.1897 - categorical_accuracy: 0.9303 - val_loss: 0.3573 - val_categorical_accuracy: 0.8662\n",
            "Epoch 7/20\n",
            "156/156 [==============================] - 35s 222ms/step - loss: 0.1721 - categorical_accuracy: 0.9400 - val_loss: 0.4602 - val_categorical_accuracy: 0.8626\n",
            "Epoch 8/20\n",
            "156/156 [==============================] - 35s 222ms/step - loss: 0.1383 - categorical_accuracy: 0.9529 - val_loss: 0.5164 - val_categorical_accuracy: 0.8508\n",
            "Epoch 9/20\n",
            "156/156 [==============================] - 35s 222ms/step - loss: 0.1104 - categorical_accuracy: 0.9611 - val_loss: 0.3909 - val_categorical_accuracy: 0.8844\n",
            "Epoch 10/20\n",
            "156/156 [==============================] - 35s 222ms/step - loss: 0.0924 - categorical_accuracy: 0.9706 - val_loss: 0.4181 - val_categorical_accuracy: 0.8844\n",
            "Epoch 11/20\n",
            "156/156 [==============================] - 35s 223ms/step - loss: 0.0753 - categorical_accuracy: 0.9748 - val_loss: 0.3293 - val_categorical_accuracy: 0.8992\n",
            "Epoch 12/20\n",
            "156/156 [==============================] - 35s 222ms/step - loss: 0.0664 - categorical_accuracy: 0.9799 - val_loss: 0.4460 - val_categorical_accuracy: 0.8833\n",
            "Epoch 13/20\n",
            "156/156 [==============================] - 35s 223ms/step - loss: 0.0539 - categorical_accuracy: 0.9823 - val_loss: 0.3202 - val_categorical_accuracy: 0.8897\n",
            "Epoch 14/20\n",
            "156/156 [==============================] - 35s 223ms/step - loss: 0.0485 - categorical_accuracy: 0.9865 - val_loss: 0.3458 - val_categorical_accuracy: 0.9051\n",
            "Epoch 15/20\n",
            "156/156 [==============================] - 35s 221ms/step - loss: 0.0410 - categorical_accuracy: 0.9881 - val_loss: 0.4205 - val_categorical_accuracy: 0.8974\n",
            "Epoch 16/20\n",
            "156/156 [==============================] - 35s 221ms/step - loss: 0.0352 - categorical_accuracy: 0.9903 - val_loss: 0.4014 - val_categorical_accuracy: 0.9009\n",
            "Epoch 17/20\n",
            "156/156 [==============================] - 35s 221ms/step - loss: 0.0259 - categorical_accuracy: 0.9936 - val_loss: 0.3568 - val_categorical_accuracy: 0.9045\n",
            "Epoch 18/20\n",
            "156/156 [==============================] - 34s 220ms/step - loss: 0.0264 - categorical_accuracy: 0.9921 - val_loss: 0.3228 - val_categorical_accuracy: 0.9133\n",
            "Epoch 19/20\n",
            "156/156 [==============================] - 34s 221ms/step - loss: 0.0225 - categorical_accuracy: 0.9942 - val_loss: 0.4460 - val_categorical_accuracy: 0.8986\n",
            "Epoch 20/20\n",
            "156/156 [==============================] - 35s 221ms/step - loss: 0.0230 - categorical_accuracy: 0.9946 - val_loss: 0.3707 - val_categorical_accuracy: 0.9051\n"
          ]
        }
      ],
      "source": [
        "history4 = model4.fit(train, steps_per_epoch=4997//32, epochs=20, validation_data=test, validation_steps= 1705//32)"
      ]
    },
    {
      "cell_type": "code",
      "execution_count": 7,
      "metadata": {
        "id": "eCbeqUrWHwZM",
        "colab": {
          "base_uri": "https://localhost:8080/",
          "height": 281
        },
        "outputId": "82d61a45-bb19-497b-d851-de428bf1da5a"
      },
      "outputs": [
        {
          "output_type": "display_data",
          "data": {
            "image/png": "[encoded data removed]",
            "text/plain": [
              "<Figure size 432x288 with 1 Axes>"
            ]
          },
          "metadata": {
            "needs_background": "light"
          }
        }
      ],
      "source": [
        "plt.plot(history4.history['loss'], label = 'train')\n",
        "plt.plot(history4.history['val_loss'], label = 'val')\n",
        "plt.title('  Loss  &  Validation Loss')\n",
        "plt.legend()\n",
        "plt.show()"
      ]
    },
    {
      "cell_type": "code",
      "execution_count": 11,
      "metadata": {
        "id": "M4Ga-lHAH7pQ",
        "colab": {
          "base_uri": "https://localhost:8080/",
          "height": 281
        },
        "outputId": "51e9092d-18dc-475a-ae60-cff1a72b6be1"
      },
      "outputs": [
        {
          "output_type": "display_data",
          "data": {
            "image/png": "[encoded data removed]",
            "text/plain": [
              "<Figure size 432x288 with 1 Axes>"
            ]
          },
          "metadata": {
            "needs_background": "light"
          }
        }
      ],
      "source": [
        "plt.plot(history4.history['categorical_accuracy'], label = 'train')\n",
        "plt.plot(history4.history['val_categorical_accuracy'], label = 'val')\n",
        "plt.title( \"Accuracy\"  )\n",
        "plt.legend()\n",
        "plt.show()"
      ]
    }
  ],
  "metadata": {
    "accelerator": "GPU",
    "colab": {
      "name": "SGD_n.ipynb",
      "provenance": [],
      "collapsed_sections": []
    },
    "kernelspec": {
      "display_name": "Python 3",
      "name": "python3"
    },
    "language_info": {
      "name": "python"
    }
  },
  "nbformat": 4,
  "nbformat_minor": 0
}